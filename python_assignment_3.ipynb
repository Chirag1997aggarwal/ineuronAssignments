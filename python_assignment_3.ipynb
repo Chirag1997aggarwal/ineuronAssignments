{
  "nbformat": 4,
  "nbformat_minor": 0,
  "metadata": {
    "colab": {
      "name": "python_assignment_3.ipynb",
      "provenance": [],
      "authorship_tag": "ABX9TyOnH86c8GWKDtgKAYkXc7iA",
      "include_colab_link": true
    },
    "kernelspec": {
      "name": "python3",
      "display_name": "Python 3"
    },
    "language_info": {
      "name": "python"
    }
  },
  "cells": [
    {
      "cell_type": "markdown",
      "metadata": {
        "id": "view-in-github",
        "colab_type": "text"
      },
      "source": [
        "<a href=\"https://colab.research.google.com/github/Chirag1997aggarwal/ineuronAssignments/blob/main/python_assignment_3.ipynb\" target=\"_parent\"><img src=\"https://colab.research.google.com/assets/colab-badge.svg\" alt=\"Open In Colab\"/></a>"
      ]
    },
    {
      "cell_type": "markdown",
      "metadata": {
        "id": "NA28AXdQ8INg"
      },
      "source": [
        "## Python Assignment 3\n",
        "- From ineuron.io\n",
        "- https://drive.google.com/file/d/1z9BMCkTDaFTs6Q5eT8xe5WIh3x_jmpk8/view"
      ]
    },
    {
      "cell_type": "markdown",
      "metadata": {
        "id": "28PPHHjI8H6r"
      },
      "source": [
        "Question 1.1) Write a Python Program to implement your own myreduce() function which works exactly\n",
        "like Python's built-in function reduce()"
      ]
    },
    {
      "cell_type": "markdown",
      "metadata": {
        "id": "BPuO5qYt8H4P"
      },
      "source": [
        "Question 1.2) Write a Python program to implement your own myfilter() function which works exactly\n",
        "like Python's built-in function filter()"
      ]
    },
    {
      "cell_type": "markdown",
      "metadata": {
        "id": "olebqxt58cl7"
      },
      "source": [
        "Question 2) Implement List comprehensions to produce the following lists.\n",
        "Write List comprehensions to produce the following Lists\n",
        "- ['x', 'xx', 'xxx', 'xxxx', 'y', 'yy', 'yyy', 'yyyy', 'z', 'zz', 'zzz', 'zzzz']\n",
        "- ['x', 'y', 'z', 'xx', 'yy', 'zz', 'xxx', 'yyy', 'zzz', 'xxxx', 'yyyy', 'zzzz']\n",
        "- [[2], [3], [4], [3], [4], [5], [4], [5], [6]] \n",
        "- [[2, 3, 4, 5], [3, 4, 5, 6],[4, 5, 6, 7], [5, 6, 7, 8]]\n",
        "- [(1, 1), (2, 1), (3, 1), (1, 2), (2, 2), (3, 2), (1, 3), (2, 3), (3, 3)]"
      ]
    },
    {
      "cell_type": "code",
      "metadata": {
        "colab": {
          "base_uri": "https://localhost:8080/"
        },
        "id": "44Xi6v1d75f2",
        "outputId": "3ad607da-0199-4db0-e9b5-a13bbceac323"
      },
      "source": [
        "char_lst = ['X', 'Y', 'Z']\n",
        "print([i*(j+1) for i in char_lst for j in range(4)])\n",
        "print([i*(j+1) for j in range(4) for i in char_lst])"
      ],
      "execution_count": 5,
      "outputs": [
        {
          "output_type": "stream",
          "text": [
            "['X', 'XX', 'XXX', 'XXXX', 'Y', 'YY', 'YYY', 'YYYY', 'Z', 'ZZ', 'ZZZ', 'ZZZZ']\n",
            "['X', 'Y', 'Z', 'XX', 'YY', 'ZZ', 'XXX', 'YYY', 'ZZZ', 'XXXX', 'YYYY', 'ZZZZ']\n"
          ],
          "name": "stdout"
        }
      ]
    },
    {
      "cell_type": "code",
      "metadata": {
        "id": "ju9ydtbX9exF"
      },
      "source": [
        ""
      ],
      "execution_count": null,
      "outputs": []
    }
  ]
}