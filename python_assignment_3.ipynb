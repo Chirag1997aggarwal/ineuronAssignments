{
  "nbformat": 4,
  "nbformat_minor": 0,
  "metadata": {
    "colab": {
      "name": "python_assignment_3.ipynb",
      "provenance": [],
      "authorship_tag": "ABX9TyN8vhq5G1/XYn78uyeQBjXU",
      "include_colab_link": true
    },
    "kernelspec": {
      "name": "python3",
      "display_name": "Python 3"
    },
    "language_info": {
      "name": "python"
    }
  },
  "cells": [
    {
      "cell_type": "markdown",
      "metadata": {
        "id": "view-in-github",
        "colab_type": "text"
      },
      "source": [
        "<a href=\"https://colab.research.google.com/github/Chirag1997aggarwal/ineuronAssignments/blob/main/python_assignment_3.ipynb\" target=\"_parent\"><img src=\"https://colab.research.google.com/assets/colab-badge.svg\" alt=\"Open In Colab\"/></a>"
      ]
    },
    {
      "cell_type": "markdown",
      "metadata": {
        "id": "NA28AXdQ8INg"
      },
      "source": [
        "## Python Assignment 3\n",
        "- From ineuron.io\n",
        "- https://drive.google.com/file/d/1z9BMCkTDaFTs6Q5eT8xe5WIh3x_jmpk8/view"
      ]
    },
    {
      "cell_type": "markdown",
      "metadata": {
        "id": "28PPHHjI8H6r"
      },
      "source": [
        "Question 1.1) Write a Python Program to implement your own myreduce() function which works exactly\n",
        "like Python's built-in function reduce()"
      ]
    },
    {
      "cell_type": "code",
      "metadata": {
        "id": "V26Ezv9_089j",
        "outputId": "3d531c7e-8924-454f-ad77-34e7f6a80268",
        "colab": {
          "base_uri": "https://localhost:8080/"
        }
      },
      "source": [
        "def myreduce(func, lst):\n",
        "  a = lst[0]\n",
        "  for i in range(1, len(lst)):\n",
        "    b = lst[i]\n",
        "    a = func(a, b)\n",
        "  return a\n",
        "\n",
        "func = lambda a,b : a+b\n",
        "lst = [ 1 , 3, 5, 6, 2]\n",
        "myreduce(func, lst)"
      ],
      "execution_count": 5,
      "outputs": [
        {
          "output_type": "execute_result",
          "data": {
            "text/plain": [
              "17"
            ]
          },
          "metadata": {
            "tags": []
          },
          "execution_count": 5
        }
      ]
    },
    {
      "cell_type": "markdown",
      "metadata": {
        "id": "BPuO5qYt8H4P"
      },
      "source": [
        "Question 1.2) Write a Python program to implement your own myfilter() function which works exactly\n",
        "like Python's built-in function filter()"
      ]
    },
    {
      "cell_type": "code",
      "metadata": {
        "id": "aPJE6UTk-Mle",
        "outputId": "20271bae-03f8-44b3-8715-c1775550f8b0",
        "colab": {
          "base_uri": "https://localhost:8080/"
        }
      },
      "source": [
        "def myfilter(func, lst):\n",
        "  req_lst = list()\n",
        "  for i in lst:\n",
        "    if func(i):\n",
        "      req_lst.append(i)\n",
        "  return req_lst\n",
        "\n",
        "func = lambda x: True if x%2==0 else False\n",
        "lst = [1, 2 , 3, 4, 5, 6, 7, 8, 9, 10]\n",
        "myfilter(func, lst)"
      ],
      "execution_count": 7,
      "outputs": [
        {
          "output_type": "execute_result",
          "data": {
            "text/plain": [
              "[2, 4, 6, 8, 10]"
            ]
          },
          "metadata": {
            "tags": []
          },
          "execution_count": 7
        }
      ]
    },
    {
      "cell_type": "markdown",
      "metadata": {
        "id": "olebqxt58cl7"
      },
      "source": [
        "Question 2) Implement List comprehensions to produce the following lists.\n",
        "Write List comprehensions to produce the following Lists\n",
        "- ['x', 'xx', 'xxx', 'xxxx', 'y', 'yy', 'yyy', 'yyyy', 'z', 'zz', 'zzz', 'zzzz']\n",
        "- ['x', 'y', 'z', 'xx', 'yy', 'zz', 'xxx', 'yyy', 'zzz', 'xxxx', 'yyyy', 'zzzz']\n",
        "- [[2], [3], [4], [3], [4], [5], [4], [5], [6]] \n",
        "- [[2, 3, 4, 5], [3, 4, 5, 6],[4, 5, 6, 7], [5, 6, 7, 8]]\n",
        "- [(1, 1), (2, 1), (3, 1), (1, 2), (2, 2), (3, 2), (1, 3), (2, 3), (3, 3)]"
      ]
    },
    {
      "cell_type": "code",
      "metadata": {
        "colab": {
          "base_uri": "https://localhost:8080/"
        },
        "id": "44Xi6v1d75f2",
        "outputId": "8809b4e1-1a82-48ca-f22d-7731b56adf73"
      },
      "source": [
        "char_lst = ['X', 'Y', 'Z']\n",
        "num_lst = [1, 2, 3]\n",
        "print([i*(j+1) for i in char_lst for j in range(4)])\n",
        "print([i*(j+1) for j in range(4) for i in char_lst])\n",
        "print([[i+j] for i in range(2, 5) for j in range(3)])\n",
        "print([[i, i+1, i+2, i+3] for i in range(2, 6)])\n",
        "print([(i,j) for i in num_lst for j in num_lst])"
      ],
      "execution_count": 14,
      "outputs": [
        {
          "output_type": "stream",
          "text": [
            "['X', 'XX', 'XXX', 'XXXX', 'Y', 'YY', 'YYY', 'YYYY', 'Z', 'ZZ', 'ZZZ', 'ZZZZ']\n",
            "['X', 'Y', 'Z', 'XX', 'YY', 'ZZ', 'XXX', 'YYY', 'ZZZ', 'XXXX', 'YYYY', 'ZZZZ']\n",
            "[[2], [3], [4], [3], [4], [5], [4], [5], [6]]\n",
            "[[2, 3, 4, 5], [3, 4, 5, 6], [4, 5, 6, 7], [5, 6, 7, 8]]\n",
            "[(1, 1), (1, 2), (1, 3), (2, 1), (2, 2), (2, 3), (3, 1), (3, 2), (3, 3)]\n"
          ],
          "name": "stdout"
        }
      ]
    },
    {
      "cell_type": "code",
      "metadata": {
        "id": "ju9ydtbX9exF"
      },
      "source": [
        ""
      ],
      "execution_count": null,
      "outputs": []
    }
  ]
}