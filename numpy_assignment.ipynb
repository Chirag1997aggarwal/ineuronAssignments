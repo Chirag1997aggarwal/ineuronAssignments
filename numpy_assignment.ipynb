{
  "nbformat": 4,
  "nbformat_minor": 0,
  "metadata": {
    "colab": {
      "name": "numpy assignment.ipynb",
      "provenance": [],
      "collapsed_sections": [],
      "authorship_tag": "ABX9TyPUz8E1J0aJu+uYr+FHoe7R",
      "include_colab_link": true
    },
    "kernelspec": {
      "name": "python3",
      "display_name": "Python 3"
    },
    "language_info": {
      "name": "python"
    }
  },
  "cells": [
    {
      "cell_type": "markdown",
      "metadata": {
        "id": "view-in-github",
        "colab_type": "text"
      },
      "source": [
        "<a href=\"https://colab.research.google.com/github/Chirag1997aggarwal/ineuronAssignments/blob/main/numpy_assignment.ipynb\" target=\"_parent\"><img src=\"https://colab.research.google.com/assets/colab-badge.svg\" alt=\"Open In Colab\"/></a>"
      ]
    },
    {
      "cell_type": "markdown",
      "metadata": {
        "id": "ymAJdD0gG7e-"
      },
      "source": [
        "## Datacleaning Pandas\n",
        "- From ineuron.io\n",
        "- https://drive.google.com/file/d/1TZnso_qxuqgMjGyhcpGshzt5S0sg1qve/view"
      ]
    },
    {
      "cell_type": "code",
      "metadata": {
        "id": "4ZpxqZwvHlv0"
      },
      "source": [
        "import numpy as np"
      ],
      "execution_count": 1,
      "outputs": []
    },
    {
      "cell_type": "markdown",
      "metadata": {
        "id": "0DtTYaB-HL88"
      },
      "source": [
        "### Write a function so that the columns of the output matrix are powers of the input\n",
        "vector.\n",
        "The order of the powers is determined by the increasing boolean argument. Specifically, when\n",
        "increasing is False, the i-th output column is the input vector raised element-wise to the power\n",
        "of N - i - 1.\n",
        "\n",
        "<b>HINT:</b> Such a matrix with a geometric progression in each row is named for Alexandre-\n",
        "Theophile Vandermonde."
      ]
    },
    {
      "cell_type": "code",
      "metadata": {
        "colab": {
          "base_uri": "https://localhost:8080/"
        },
        "id": "8rOwB1F0Gjts",
        "outputId": "d1e47fe4-8d8f-4fb4-9597-d098afec4469"
      },
      "source": [
        "input_vector = [1, 2, 3, 4, 5]\n",
        "number_of_columns = 3\n",
        "np.vander(input_vector, number_of_columns, increasing=True)"
      ],
      "execution_count": 4,
      "outputs": [
        {
          "output_type": "execute_result",
          "data": {
            "text/plain": [
              "array([[ 1,  1,  1],\n",
              "       [ 1,  2,  4],\n",
              "       [ 1,  3,  9],\n",
              "       [ 1,  4, 16],\n",
              "       [ 1,  5, 25]])"
            ]
          },
          "metadata": {
            "tags": []
          },
          "execution_count": 4
        }
      ]
    },
    {
      "cell_type": "markdown",
      "metadata": {
        "id": "gsrKIbiJH80L"
      },
      "source": [
        "## <b>Question:</b> Write a function to find moving average in an array over a window:\n",
        "Test it over [3, 5, 7, 2, 8, 10, 11, 65, 72, 81, 99, 100, 150] and window of 3."
      ]
    },
    {
      "cell_type": "code",
      "metadata": {
        "id": "pttaLNn4HuX9"
      },
      "source": [
        "input_vector = [3, 5, 7, 2, 8, 10, 11, 65, 72, 81, 99, 100, 150]\n",
        "window_size = 3"
      ],
      "execution_count": 5,
      "outputs": []
    },
    {
      "cell_type": "code",
      "metadata": {
        "colab": {
          "base_uri": "https://localhost:8080/"
        },
        "id": "OOrUfjvEIY18",
        "outputId": "59af8b31-a0d4-4259-b69e-7f3738eefc55"
      },
      "source": [
        "for i in range(len(input_vector)-window_size):\n",
        "  sum = 0\n",
        "  print('Y'+str(i+1), end=' = ')\n",
        "  for j in range(window_size):\n",
        "    sum += input_vector[i+j]\n",
        "  print(sum)\n",
        "print('Moving average sequence has ' + str(len(input_vector) - window_size + 1) + ' values')"
      ],
      "execution_count": 15,
      "outputs": [
        {
          "output_type": "stream",
          "text": [
            "Y1 = 15\n",
            "Y2 = 14\n",
            "Y3 = 17\n",
            "Y4 = 20\n",
            "Y5 = 29\n",
            "Y6 = 86\n",
            "Y7 = 148\n",
            "Y8 = 218\n",
            "Y9 = 252\n",
            "Y10 = 280\n",
            "Moving average sequence has 11 values\n"
          ],
          "name": "stdout"
        }
      ]
    },
    {
      "cell_type": "code",
      "metadata": {
        "id": "lZjV9CyNIx95"
      },
      "source": [
        ""
      ],
      "execution_count": null,
      "outputs": []
    }
  ]
}