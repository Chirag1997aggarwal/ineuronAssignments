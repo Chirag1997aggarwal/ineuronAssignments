{
  "nbformat": 4,
  "nbformat_minor": 0,
  "metadata": {
    "colab": {
      "name": "Python Assignment 2.ipynb",
      "provenance": [],
      "collapsed_sections": [],
      "authorship_tag": "ABX9TyMKhT8hnpka+7OoE+Yjs5Ef",
      "include_colab_link": true
    },
    "kernelspec": {
      "name": "python3",
      "display_name": "Python 3"
    },
    "language_info": {
      "name": "python"
    }
  },
  "cells": [
    {
      "cell_type": "markdown",
      "metadata": {
        "id": "view-in-github",
        "colab_type": "text"
      },
      "source": [
        "<a href=\"https://colab.research.google.com/github/Chirag1997aggarwal/ineuronAssignments/blob/main/python_assignment_2.ipynb\" target=\"_parent\"><img src=\"https://colab.research.google.com/assets/colab-badge.svg\" alt=\"Open In Colab\"/></a>"
      ]
    },
    {
      "cell_type": "markdown",
      "metadata": {
        "id": "0xXkg_20jVea"
      },
      "source": [
        "# Python Assignment 2\n",
        "  - From ineuron.io\n",
        "  -https://drive.google.com/file/d/1DZUKA_tW4yq8R7t8MNQONjg8f2FWmgNX/view"
      ]
    },
    {
      "cell_type": "markdown",
      "metadata": {
        "id": "TEYv4x2RjnyC"
      },
      "source": [
        "Question 1) Create the below pattern using nested for loop in Python.\n",
        "\n",
        "![star pattern.PNG](data:image/png;base64,iVBORw0KGgoAAAANSUhEUgAAAGMAAAC7CAYAAABxViDXAAAAAXNSR0IArs4c6QAAAARnQU1BAACxjwv8YQUAAAAJcEhZcwAADsMAAA7DAcdvqGQAAAPgSURBVHhe7d2xK31/HMfx319hkNFgsRhEJqMyWWU0m8wWozIyyl9ABoONGKUUSgmDpJSBIvT+dXW27/db78/XOfc+v87zsdzuPcMdnvmc4dW5/gthGAPEGCDGADEGiDFAjAFiDBBjgBgDxBggxgApirG3txfX19fVO9UtFePh4SFub29jbm4utre34+TkJN7f36urqksqRucvYnx8PAYGBmJwcDBmZ2fj8fGxuqq6pI+pjY2NGB0djampqbi5uak+VZ1SMd7e3mJ1dTWOj49jfX09Dg4OqiuqU9ENXM0yBogxQIwBYgwQY4AYA8QYIMYAMQaIMUCMAWIMEGOAFMXIzK5PT0+xs7MTLy8v1SfKSsXIzq6Xl5dxenoa09PTX6+d98pLxcjMrp+fn7G0tBQjIyPR19cXw8PDsbKyUl1VRvqYysyuz8/PMT8//xVucXExXl9fqyvKSMXIzq6dSMvLy3F1dfX1en9/X11RRtENXM0yBogxQIwBYgwQY4AYA8QYIMYAMQaIMUCMAWIMEGOAGAOkKEadG/j5+Xns7+9X79SRilHnBt5Z/y4uLmJzczMWFhbi7OzMJ2crqRh1buB3d3cxMzMTQ0ND0d/fHxMTE3F0dFRdbbf0MVXnBt45oiYnJ2NsbCy2traqT5WKUfcGvru7+xX38PAw1tbW4uPjo7rSbkU3cDXLGCDGADEGiDFAjAFiDBBjgBgDxBggxgAxBogxQIwBUhSjF7Nrm+bZVIxezK5tnGdTMXoxu7Zxnk0fU72YXds2z6Zi9Gp2bds8W3QDV7OMAWIMEGOAGAPEGCDGADEGiDFAjAFiDBBjgBgDxBggxgApikHdwH/KT36nYpA38Mx3/itSMagb+E/7ye/0MUXdwH/ST36nYpA38Ox3/guKbuBqljFAjAFiDBBjgBgDxBggxgAxBogxQIwBYgwQY4AYA8QYIEUxfA68WakYPgfeHakYPgfeHeljirqB/ySpGD4H3h1FN3A1yxggxgAxBogxQIwBYgwQY4AYA8QYIMYAMQaIMUCMAVIUoxeza5ukYvhfj7sjFaMXs2sbpY+pXsyubZOK4X897o6iG7iaZQwQY4AYA8QYIMYAMQaIMUCMAWIMEGOAGAPEGCDGADEGSFGMOjdw/SoVo84NXH+WilHnBq4/Sx9TdW7g+r1UjLo3cP1e0Q1czTIGiDFAjAFiDBBjgBgDxBggxgAxBogxQIwBYgwQY4AYA6QoRmYD199Lxchu4PqeVIzMBq7vSx9TmQ1c35OKkd3A9T1FN3A1yxggxgAxBogxQIwBYgwQY4AYA8QYIMYAMQaIMTAi/gdSgLZ0SD4r2AAAAABJRU5ErkJggg==)\n",
        "\n"
      ]
    },
    {
      "cell_type": "markdown",
      "metadata": {
        "id": "U0xeg0v8mPA1"
      },
      "source": [
        "Answer 1) There are two ways to solve the above problem\n",
        "\n",
        "\n",
        "1.   Nested loop\n",
        "2.   builtIn functions like ljust()\n",
        "\n"
      ]
    },
    {
      "cell_type": "code",
      "metadata": {
        "colab": {
          "base_uri": "https://localhost:8080/"
        },
        "id": "VTvnjwRxjnY_",
        "outputId": "dc7350ae-08a6-4f2b-98e2-dd53da77296d"
      },
      "source": [
        "star = 5\n",
        "for i in range(star+1):\n",
        "  for j in range(i):\n",
        "    print('*', end=' ')\n",
        "  print('')\n",
        "for i in range(star-1, 0, -1):\n",
        "  for j in range(i):\n",
        "    print('*', end=' ')\n",
        "  print('')"
      ],
      "execution_count": 11,
      "outputs": [
        {
          "output_type": "stream",
          "text": [
            "\n",
            "* \n",
            "* * \n",
            "* * * \n",
            "* * * * \n",
            "* * * * * \n",
            "* * * * \n",
            "* * * \n",
            "* * \n",
            "* \n"
          ],
          "name": "stdout"
        }
      ]
    },
    {
      "cell_type": "code",
      "metadata": {
        "colab": {
          "base_uri": "https://localhost:8080/"
        },
        "id": "rUNR_vzWjkNj",
        "outputId": "10e5f10c-6fcb-4885-d531-e945fa42f509"
      },
      "source": [
        "star = 5\n",
        "for i in range(1, star+1):\n",
        "  print(str('* '*i).ljust(star, ' '))\n",
        "for i in range(star-1, 0, -1):\n",
        "  print(str('* '*i).ljust(star, ' '))"
      ],
      "execution_count": 21,
      "outputs": [
        {
          "output_type": "stream",
          "text": [
            "*    \n",
            "* *  \n",
            "* * * \n",
            "* * * * \n",
            "* * * * * \n",
            "* * * * \n",
            "* * * \n",
            "* *  \n",
            "*    \n"
          ],
          "name": "stdout"
        }
      ]
    },
    {
      "cell_type": "markdown",
      "metadata": {
        "id": "I0R6kh1DnoNc"
      },
      "source": [
        "Question 2) Write a Python program to reverse a word after accepting the input from the user."
      ]
    },
    {
      "cell_type": "code",
      "metadata": {
        "colab": {
          "base_uri": "https://localhost:8080/"
        },
        "id": "pJghqJUojnE_",
        "outputId": "281d5b61-6d58-4881-b350-626a5e083b1d"
      },
      "source": [
        "i = input('Enter a word - ')\n",
        "print(i[::-1])"
      ],
      "execution_count": 24,
      "outputs": [
        {
          "output_type": "stream",
          "text": [
            "Enter a word - ineuron\n",
            "norueni\n"
          ],
          "name": "stdout"
        }
      ]
    },
    {
      "cell_type": "code",
      "metadata": {
        "id": "445Iw3pUn7ek"
      },
      "source": [
        ""
      ],
      "execution_count": 22,
      "outputs": []
    }
  ]
}