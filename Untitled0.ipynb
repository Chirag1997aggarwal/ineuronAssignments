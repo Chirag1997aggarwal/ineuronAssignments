{
  "nbformat": 4,
  "nbformat_minor": 0,
  "metadata": {
    "colab": {
      "provenance": [],
      "authorship_tag": "ABX9TyOSU9r2m9SW2aKCsx/BDuH1",
      "include_colab_link": true
    },
    "kernelspec": {
      "name": "python3",
      "display_name": "Python 3"
    },
    "language_info": {
      "name": "python"
    }
  },
  "cells": [
    {
      "cell_type": "markdown",
      "metadata": {
        "id": "view-in-github",
        "colab_type": "text"
      },
      "source": [
        "<a href=\"https://colab.research.google.com/github/Chirag1997aggarwal/ineuronAssignments/blob/main/Untitled0.ipynb\" target=\"_parent\"><img src=\"https://colab.research.google.com/assets/colab-badge.svg\" alt=\"Open In Colab\"/></a>"
      ]
    },
    {
      "cell_type": "code",
      "metadata": {
        "id": "aas1w2_70hNc"
      },
      "source": [
        "import pandas as pd\n",
        "import json"
      ],
      "execution_count": 1,
      "outputs": []
    },
    {
      "cell_type": "code",
      "metadata": {
        "id": "2DZ1UTXN04Vk"
      },
      "source": [
        "d = json.load(open('data.json'))['b2b']\n",
        "out_file = open(\"d.json\", \"w\")\n",
        "  \n",
        "json.dump(d, out_file, indent = 6)\n",
        "  \n",
        "out_file.close()\n",
        "data = pd.read_json('d.json')\n",
        "data = data.explode('inv')"
      ],
      "execution_count": 2,
      "outputs": []
    },
    {
      "cell_type": "code",
      "metadata": {
        "id": "y1s20H1_1FY0",
        "colab": {
          "base_uri": "https://localhost:8080/",
          "height": 424
        },
        "outputId": "b979d36f-8001-4bc8-c358-9d0360c66f3f"
      },
      "source": [
        "data"
      ],
      "execution_count": 3,
      "outputs": [
        {
          "output_type": "execute_result",
          "data": {
            "text/plain": [
              "               ctin cfs                                                inv\n",
              "0   06AAACL6141J1ZM   N  {'val': 13699, 'itms': [{'num': 1, 'itm_det': ...\n",
              "1   06AAAFF6079J1Z9   N  {'val': 1680, 'itms': [{'num': 1, 'itm_det': {...\n",
              "2   06AACCG8589P1ZP   N  {'val': 4961, 'itms': [{'num': 1, 'itm_det': {...\n",
              "3   06AACCR9118F1ZG   N  {'val': 983, 'itms': [{'num': 1, 'itm_det': {'...\n",
              "3   06AACCR9118F1ZG   N  {'val': 936, 'itms': [{'num': 1, 'itm_det': {'...\n",
              "..              ...  ..                                                ...\n",
              "33  09AMPPJ6236N1ZB   N  {'val': 10408, 'itms': [{'num': 1, 'itm_det': ...\n",
              "33  09AMPPJ6236N1ZB   N  {'val': 840, 'itms': [{'num': 1, 'itm_det': {'...\n",
              "33  09AMPPJ6236N1ZB   N  {'val': 8572, 'itms': [{'num': 1, 'itm_det': {...\n",
              "34  09APFPN6140L1ZK   N  {'val': 4026, 'itms': [{'num': 1, 'itm_det': {...\n",
              "34  09APFPN6140L1ZK   N  {'val': 4026, 'itms': [{'num': 1, 'itm_det': {...\n",
              "\n",
              "[139 rows x 3 columns]"
            ],
            "text/html": [
              "\n",
              "  <div id=\"df-3512f5ce-aead-4973-b88f-50d5e41d7845\">\n",
              "    <div class=\"colab-df-container\">\n",
              "      <div>\n",
              "<style scoped>\n",
              "    .dataframe tbody tr th:only-of-type {\n",
              "        vertical-align: middle;\n",
              "    }\n",
              "\n",
              "    .dataframe tbody tr th {\n",
              "        vertical-align: top;\n",
              "    }\n",
              "\n",
              "    .dataframe thead th {\n",
              "        text-align: right;\n",
              "    }\n",
              "</style>\n",
              "<table border=\"1\" class=\"dataframe\">\n",
              "  <thead>\n",
              "    <tr style=\"text-align: right;\">\n",
              "      <th></th>\n",
              "      <th>ctin</th>\n",
              "      <th>cfs</th>\n",
              "      <th>inv</th>\n",
              "    </tr>\n",
              "  </thead>\n",
              "  <tbody>\n",
              "    <tr>\n",
              "      <th>0</th>\n",
              "      <td>06AAACL6141J1ZM</td>\n",
              "      <td>N</td>\n",
              "      <td>{'val': 13699, 'itms': [{'num': 1, 'itm_det': ...</td>\n",
              "    </tr>\n",
              "    <tr>\n",
              "      <th>1</th>\n",
              "      <td>06AAAFF6079J1Z9</td>\n",
              "      <td>N</td>\n",
              "      <td>{'val': 1680, 'itms': [{'num': 1, 'itm_det': {...</td>\n",
              "    </tr>\n",
              "    <tr>\n",
              "      <th>2</th>\n",
              "      <td>06AACCG8589P1ZP</td>\n",
              "      <td>N</td>\n",
              "      <td>{'val': 4961, 'itms': [{'num': 1, 'itm_det': {...</td>\n",
              "    </tr>\n",
              "    <tr>\n",
              "      <th>3</th>\n",
              "      <td>06AACCR9118F1ZG</td>\n",
              "      <td>N</td>\n",
              "      <td>{'val': 983, 'itms': [{'num': 1, 'itm_det': {'...</td>\n",
              "    </tr>\n",
              "    <tr>\n",
              "      <th>3</th>\n",
              "      <td>06AACCR9118F1ZG</td>\n",
              "      <td>N</td>\n",
              "      <td>{'val': 936, 'itms': [{'num': 1, 'itm_det': {'...</td>\n",
              "    </tr>\n",
              "    <tr>\n",
              "      <th>...</th>\n",
              "      <td>...</td>\n",
              "      <td>...</td>\n",
              "      <td>...</td>\n",
              "    </tr>\n",
              "    <tr>\n",
              "      <th>33</th>\n",
              "      <td>09AMPPJ6236N1ZB</td>\n",
              "      <td>N</td>\n",
              "      <td>{'val': 10408, 'itms': [{'num': 1, 'itm_det': ...</td>\n",
              "    </tr>\n",
              "    <tr>\n",
              "      <th>33</th>\n",
              "      <td>09AMPPJ6236N1ZB</td>\n",
              "      <td>N</td>\n",
              "      <td>{'val': 840, 'itms': [{'num': 1, 'itm_det': {'...</td>\n",
              "    </tr>\n",
              "    <tr>\n",
              "      <th>33</th>\n",
              "      <td>09AMPPJ6236N1ZB</td>\n",
              "      <td>N</td>\n",
              "      <td>{'val': 8572, 'itms': [{'num': 1, 'itm_det': {...</td>\n",
              "    </tr>\n",
              "    <tr>\n",
              "      <th>34</th>\n",
              "      <td>09APFPN6140L1ZK</td>\n",
              "      <td>N</td>\n",
              "      <td>{'val': 4026, 'itms': [{'num': 1, 'itm_det': {...</td>\n",
              "    </tr>\n",
              "    <tr>\n",
              "      <th>34</th>\n",
              "      <td>09APFPN6140L1ZK</td>\n",
              "      <td>N</td>\n",
              "      <td>{'val': 4026, 'itms': [{'num': 1, 'itm_det': {...</td>\n",
              "    </tr>\n",
              "  </tbody>\n",
              "</table>\n",
              "<p>139 rows × 3 columns</p>\n",
              "</div>\n",
              "      <button class=\"colab-df-convert\" onclick=\"convertToInteractive('df-3512f5ce-aead-4973-b88f-50d5e41d7845')\"\n",
              "              title=\"Convert this dataframe to an interactive table.\"\n",
              "              style=\"display:none;\">\n",
              "        \n",
              "  <svg xmlns=\"http://www.w3.org/2000/svg\" height=\"24px\"viewBox=\"0 0 24 24\"\n",
              "       width=\"24px\">\n",
              "    <path d=\"M0 0h24v24H0V0z\" fill=\"none\"/>\n",
              "    <path d=\"M18.56 5.44l.94 2.06.94-2.06 2.06-.94-2.06-.94-.94-2.06-.94 2.06-2.06.94zm-11 1L8.5 8.5l.94-2.06 2.06-.94-2.06-.94L8.5 2.5l-.94 2.06-2.06.94zm10 10l.94 2.06.94-2.06 2.06-.94-2.06-.94-.94-2.06-.94 2.06-2.06.94z\"/><path d=\"M17.41 7.96l-1.37-1.37c-.4-.4-.92-.59-1.43-.59-.52 0-1.04.2-1.43.59L10.3 9.45l-7.72 7.72c-.78.78-.78 2.05 0 2.83L4 21.41c.39.39.9.59 1.41.59.51 0 1.02-.2 1.41-.59l7.78-7.78 2.81-2.81c.8-.78.8-2.07 0-2.86zM5.41 20L4 18.59l7.72-7.72 1.47 1.35L5.41 20z\"/>\n",
              "  </svg>\n",
              "      </button>\n",
              "      \n",
              "  <style>\n",
              "    .colab-df-container {\n",
              "      display:flex;\n",
              "      flex-wrap:wrap;\n",
              "      gap: 12px;\n",
              "    }\n",
              "\n",
              "    .colab-df-convert {\n",
              "      background-color: #E8F0FE;\n",
              "      border: none;\n",
              "      border-radius: 50%;\n",
              "      cursor: pointer;\n",
              "      display: none;\n",
              "      fill: #1967D2;\n",
              "      height: 32px;\n",
              "      padding: 0 0 0 0;\n",
              "      width: 32px;\n",
              "    }\n",
              "\n",
              "    .colab-df-convert:hover {\n",
              "      background-color: #E2EBFA;\n",
              "      box-shadow: 0px 1px 2px rgba(60, 64, 67, 0.3), 0px 1px 3px 1px rgba(60, 64, 67, 0.15);\n",
              "      fill: #174EA6;\n",
              "    }\n",
              "\n",
              "    [theme=dark] .colab-df-convert {\n",
              "      background-color: #3B4455;\n",
              "      fill: #D2E3FC;\n",
              "    }\n",
              "\n",
              "    [theme=dark] .colab-df-convert:hover {\n",
              "      background-color: #434B5C;\n",
              "      box-shadow: 0px 1px 3px 1px rgba(0, 0, 0, 0.15);\n",
              "      filter: drop-shadow(0px 1px 2px rgba(0, 0, 0, 0.3));\n",
              "      fill: #FFFFFF;\n",
              "    }\n",
              "  </style>\n",
              "\n",
              "      <script>\n",
              "        const buttonEl =\n",
              "          document.querySelector('#df-3512f5ce-aead-4973-b88f-50d5e41d7845 button.colab-df-convert');\n",
              "        buttonEl.style.display =\n",
              "          google.colab.kernel.accessAllowed ? 'block' : 'none';\n",
              "\n",
              "        async function convertToInteractive(key) {\n",
              "          const element = document.querySelector('#df-3512f5ce-aead-4973-b88f-50d5e41d7845');\n",
              "          const dataTable =\n",
              "            await google.colab.kernel.invokeFunction('convertToInteractive',\n",
              "                                                     [key], {});\n",
              "          if (!dataTable) return;\n",
              "\n",
              "          const docLinkHtml = 'Like what you see? Visit the ' +\n",
              "            '<a target=\"_blank\" href=https://colab.research.google.com/notebooks/data_table.ipynb>data table notebook</a>'\n",
              "            + ' to learn more about interactive tables.';\n",
              "          element.innerHTML = '';\n",
              "          dataTable['output_type'] = 'display_data';\n",
              "          await google.colab.output.renderOutput(dataTable, element);\n",
              "          const docLink = document.createElement('div');\n",
              "          docLink.innerHTML = docLinkHtml;\n",
              "          element.appendChild(docLink);\n",
              "        }\n",
              "      </script>\n",
              "    </div>\n",
              "  </div>\n",
              "  "
            ]
          },
          "metadata": {},
          "execution_count": 3
        }
      ]
    },
    {
      "cell_type": "code",
      "source": [
        "data.inv.iloc[138:139].to_dict()"
      ],
      "metadata": {
        "colab": {
          "base_uri": "https://localhost:8080/"
        },
        "id": "EgHwMl9-P2hO",
        "outputId": "72520b74-7589-400f-c0f5-e4358279c7a2"
      },
      "execution_count": 14,
      "outputs": [
        {
          "output_type": "execute_result",
          "data": {
            "text/plain": [
              "{34: {'val': 4026,\n",
              "  'itms': [{'num': 1,\n",
              "    'itm_det': {'csamt': 0, 'rt': 5, 'txval': 3834, 'iamt': 191.7}}],\n",
              "  'inv_typ': 'R',\n",
              "  'flag': 'U',\n",
              "  'pos': '09',\n",
              "  'updby': 'S',\n",
              "  'idt': '01-01-2022',\n",
              "  'rchrg': 'N',\n",
              "  'inum': 'SS/1269',\n",
              "  'cflag': 'N',\n",
              "  'chksum': '4d7444b8ee08bea64c8d4e87687034d1de958208e84c598f3080acc3aa4b702b'}}"
            ]
          },
          "metadata": {},
          "execution_count": 14
        }
      ]
    },
    {
      "cell_type": "code",
      "source": [],
      "metadata": {
        "id": "6vHEccB2P187"
      },
      "execution_count": null,
      "outputs": []
    },
    {
      "cell_type": "code",
      "metadata": {
        "id": "NtoigMkK5mqn"
      },
      "source": [
        "dat = {\n",
        "    'ctin': [],\n",
        "    'IGST': [],\n",
        "    'Invoice Total': [],\n",
        "    'Invoice Number': [],\n",
        "    'date': []\n",
        "}\n",
        "for i in data.iterrows():\n",
        "    dat['ctin'].append(i[1]['ctin'])\n",
        "    try:\n",
        "      dat['IGST'].append(i[1]['inv']['itms'][0]['itm_det']['iamt'])\n",
        "    except:\n",
        "      dat['IGST'].append('NA')\n",
        "    dat['Invoice Total'].append(i[1]['inv']['val'])\n",
        "    dat['Invoice Number'].append(i[1]['inv']['inum'])\n",
        "    dat['date'].append(i[1]['inv']['idt'])\n",
        "    # print(i[1]['inv']['itms'][0]['itm_det']['iamt'])\n",
        "    # break"
      ],
      "execution_count": 27,
      "outputs": []
    },
    {
      "cell_type": "code",
      "source": [
        "pd.DataFrame(dat).to_excel('data.xlsx', index=None)"
      ],
      "metadata": {
        "id": "n-4mhn5hPVRD"
      },
      "execution_count": 28,
      "outputs": []
    },
    {
      "cell_type": "code",
      "source": [
        "dat"
      ],
      "metadata": {
        "colab": {
          "base_uri": "https://localhost:8080/"
        },
        "id": "rCF4LiahPYqS",
        "outputId": "a0df3da2-1378-4a8e-d4f2-79f3bdd6c680"
      },
      "execution_count": 22,
      "outputs": [
        {
          "output_type": "execute_result",
          "data": {
            "text/plain": [
              "{'ctin': ['06AAACL6141J1ZM'],\n",
              " 'IGST': [652.35],\n",
              " 'Invoice Total': [13699],\n",
              " 'Invoice Number': ['SS/1378'],\n",
              " 'date': ['22-01-2022']}"
            ]
          },
          "metadata": {},
          "execution_count": 22
        }
      ]
    },
    {
      "cell_type": "code",
      "source": [],
      "metadata": {
        "id": "e4Y9mhYeSARv"
      },
      "execution_count": null,
      "outputs": []
    }
  ]
}