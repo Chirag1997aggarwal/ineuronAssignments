{
  "nbformat": 4,
  "nbformat_minor": 0,
  "metadata": {
    "colab": {
      "name": "python_assignment_4.ipynb",
      "provenance": [],
      "collapsed_sections": [],
      "authorship_tag": "ABX9TyPM/kIZwPiS4NPQ2mFswG2c",
      "include_colab_link": true
    },
    "kernelspec": {
      "name": "python3",
      "display_name": "Python 3"
    },
    "language_info": {
      "name": "python"
    }
  },
  "cells": [
    {
      "cell_type": "markdown",
      "metadata": {
        "id": "view-in-github",
        "colab_type": "text"
      },
      "source": [
        "<a href=\"https://colab.research.google.com/github/Chirag1997aggarwal/ineuronAssignments/blob/main/python_assignment_4.ipynb\" target=\"_parent\"><img src=\"https://colab.research.google.com/assets/colab-badge.svg\" alt=\"Open In Colab\"/></a>"
      ]
    },
    {
      "cell_type": "markdown",
      "metadata": {
        "id": "ofg5oGakq2V3"
      },
      "source": [
        "# Python Assignment 4\n",
        "- From ineuron.io - https://drive.google.com/file/d/1RtSFUNsSwinUcq7AjmLhsSrXo57mDb_D/view"
      ]
    },
    {
      "cell_type": "markdown",
      "metadata": {
        "id": "AIR9cR7BrHwA"
      },
      "source": [
        "Question 1.1) Write a Python Program(with class concepts) to find the area of the triangle using the below\n",
        "formula.\n",
        "\n",
        "- area = (s*(s-a)*(s-b)*(s-c)) ** 0.5\n",
        "\n",
        "- Function to take the length of the sides of triangle from user should be defined in the parent\n",
        "\n",
        "- class and function to calculate the area should be defined in subclass."
      ]
    },
    {
      "cell_type": "code",
      "metadata": {
        "colab": {
          "base_uri": "https://localhost:8080/"
        },
        "id": "1XQBBCQ0qu64",
        "outputId": "6d586bc2-2982-45a3-ade2-82a41a02e075"
      },
      "source": [
        "class ParentClass(object):\n",
        "       \n",
        "    # Constructor\n",
        "    def __init__(self):\n",
        "        self.a = int(input('Enter the length of first side of triangle '))\n",
        "        self.b = int(input('Enter the length of second side of triangle '))\n",
        "        self.c = int(input('Enter the length of third & last side of triangle '))\n",
        "   \n",
        "    # To get length of sides\n",
        "    def getSides(self):\n",
        "        return (self.a, self.b, self.c)\n",
        "   \n",
        "  \n",
        "class CalArea(ParentClass):\n",
        "   \n",
        "    def area(self):\n",
        "      self.a, self.b, self.c = self.getSides()\n",
        "      self.s = (self.a + self.b + self.c) /2\n",
        "      return ((self.s*(self.s-self.a)*(self.s-self.b)*(self.s-self.c)) * 0.5)\n",
        "   \n",
        "   \n",
        "a = CalArea() # An Object of Employee\n",
        "print(f'Area of the tringle is {a.area()} unit sq')"
      ],
      "execution_count": 14,
      "outputs": [
        {
          "output_type": "stream",
          "text": [
            "Enter the length of first side of triangle 3\n",
            "Enter the length of second side of triangle 3\n",
            "Enter the length of third & last side of triangle 3\n",
            "Area of the tringle is 7.59375 unit sq\n"
          ],
          "name": "stdout"
        }
      ]
    },
    {
      "cell_type": "markdown",
      "metadata": {
        "id": "Uzemz2GrrHc-"
      },
      "source": [
        "Question 1.2) Write a function filter_long_words() that takes a list of words and an integer n and returns\n",
        "the list of words that are longer than n."
      ]
    },
    {
      "cell_type": "code",
      "metadata": {
        "colab": {
          "base_uri": "https://localhost:8080/"
        },
        "id": "VxR5_EZHrwI4",
        "outputId": "657f1851-1c75-475a-a4f2-27ddc73332c8"
      },
      "source": [
        "def filter_long_words(lst, n):\n",
        "  req_lst = []\n",
        "  for i in lst:\n",
        "    if len(i) > int(n):\n",
        "      req_lst.append(i)\n",
        "  return req_lst\n",
        "\n",
        "lst = ['abc', 'abcdef', 'ghijklmn']\n",
        "n = 5\n",
        "filter_long_words(lst, n)"
      ],
      "execution_count": 17,
      "outputs": [
        {
          "output_type": "execute_result",
          "data": {
            "text/plain": [
              "['abcdef', 'ghijklmn']"
            ]
          },
          "metadata": {
            "tags": []
          },
          "execution_count": 17
        }
      ]
    },
    {
      "cell_type": "markdown",
      "metadata": {
        "id": "79TMEwXFrxcF"
      },
      "source": [
        "Question 2.1) Write a Python program using function concept that maps list of words into a list of integers\n",
        "\n",
        "- representing the lengths of the corresponding words.\n",
        "- Hint: If a list [ ab,cde,erty] is passed on to the python function output should come as [2,3,4]\n",
        "- Here 2,3 and 4 are the lengths of the words in the list."
      ]
    },
    {
      "cell_type": "code",
      "metadata": {
        "colab": {
          "base_uri": "https://localhost:8080/"
        },
        "id": "4zeirOplr-Y5",
        "outputId": "d6e3dfae-229a-4d3d-b0d4-41c818ec752e"
      },
      "source": [
        "def word_mapper(lst):\n",
        "  req_lst = [len(i) for i in lst]\n",
        "  return req_lst\n",
        " \n",
        "lst = ['abc', 'abcdef', 'ghijklmn']\n",
        "word_mapper(lst)"
      ],
      "execution_count": 18,
      "outputs": [
        {
          "output_type": "execute_result",
          "data": {
            "text/plain": [
              "[3, 6, 8]"
            ]
          },
          "metadata": {
            "tags": []
          },
          "execution_count": 18
        }
      ]
    },
    {
      "cell_type": "markdown",
      "metadata": {
        "id": "RhyZP6r3r_lF"
      },
      "source": [
        "Question 2.2) Write a Python function which takes a character (i.e. a string of length 1) and returns True if\n",
        "it is a vowel, False otherwise."
      ]
    },
    {
      "cell_type": "code",
      "metadata": {
        "colab": {
          "base_uri": "https://localhost:8080/"
        },
        "id": "WI2yyupRsG8E",
        "outputId": "f883bff2-ba78-4727-cc91-2ed6d64a4eb5"
      },
      "source": [
        "def vowel_checker(char):\n",
        "  v = ['a', 'e', 'i', 'o', 'u']\n",
        "  return True if char in v else False\n",
        "\n",
        "vowel_checker('g')"
      ],
      "execution_count": 20,
      "outputs": [
        {
          "output_type": "execute_result",
          "data": {
            "text/plain": [
              "False"
            ]
          },
          "metadata": {
            "tags": []
          },
          "execution_count": 20
        }
      ]
    },
    {
      "cell_type": "code",
      "metadata": {
        "id": "9eefXk4EymAJ"
      },
      "source": [
        ""
      ],
      "execution_count": null,
      "outputs": []
    }
  ]
}