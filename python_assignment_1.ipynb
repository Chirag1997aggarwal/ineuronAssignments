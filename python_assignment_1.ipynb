{
  "nbformat": 4,
  "nbformat_minor": 0,
  "metadata": {
    "colab": {
      "name": "python_assignment_1.ipynb",
      "provenance": [],
      "collapsed_sections": [],
      "authorship_tag": "ABX9TyOG8CjJkFJShxJEx8YYjISk",
      "include_colab_link": true
    },
    "kernelspec": {
      "name": "python3",
      "display_name": "Python 3"
    },
    "language_info": {
      "name": "python"
    }
  },
  "cells": [
    {
      "cell_type": "markdown",
      "metadata": {
        "id": "view-in-github",
        "colab_type": "text"
      },
      "source": [
        "<a href=\"https://colab.research.google.com/github/Chirag1997aggarwal/ineuronAssignments/blob/main/python_assignment_1.ipynb\" target=\"_parent\"><img src=\"https://colab.research.google.com/assets/colab-badge.svg\" alt=\"Open In Colab\"/></a>"
      ]
    },
    {
      "cell_type": "markdown",
      "metadata": {
        "id": "PGOEZADkBXqg"
      },
      "source": [
        "Python assignment - Basic python from iNeuron\n",
        "\n",
        "---\n",
        "Date - 4 Apr 2021"
      ]
    },
    {
      "cell_type": "markdown",
      "metadata": {
        "id": "AAMicCtECIGN"
      },
      "source": [
        "Question 1) Write a program which will find all such numbers which are divisible by 7 but are not a multiple of 5, between 2000 and 3200 (both included). The numbers obtained should be printed in a comma-separated sequence on a single line."
      ]
    },
    {
      "cell_type": "code",
      "metadata": {
        "colab": {
          "base_uri": "https://localhost:8080/"
        },
        "id": "fiyFk04uCWaj",
        "outputId": "4948a171-5e18-4ad0-da01-f16e2718d5b3"
      },
      "source": [
        "ans = [str(i) for i in range(2000, 2201) if i%7==0 and i%5!=0]\n",
        "print(','.join(ans))"
      ],
      "execution_count": 6,
      "outputs": [
        {
          "output_type": "stream",
          "text": [
            "2002,2009,2016,2023,2037,2044,2051,2058,2072,2079,2086,2093,2107,2114,2121,2128,2142,2149,2156,2163,2177,2184,2191,2198\n"
          ],
          "name": "stdout"
        }
      ]
    },
    {
      "cell_type": "markdown",
      "metadata": {
        "id": "7br_TCx3ENGW"
      },
      "source": [
        "Question 2) Write a Python program to accept the user's first and last name and then getting them printed in the the reverse order with a space between first name and last name."
      ]
    },
    {
      "cell_type": "code",
      "metadata": {
        "colab": {
          "base_uri": "https://localhost:8080/"
        },
        "id": "MhwVi2gvEdBf",
        "outputId": "39af010c-40ca-47b6-ac69-6ec9a499ffd0"
      },
      "source": [
        "first, last = input('Enter First Name - '), input('Enter Last Name - ')\n",
        "print(f'{last} {first}')"
      ],
      "execution_count": 3,
      "outputs": [
        {
          "output_type": "stream",
          "text": [
            "Enter First Name - Chirag\n",
            "Enter Last Name - Aggarwal\n",
            "Aggarwal Chirag\n"
          ],
          "name": "stdout"
        }
      ]
    },
    {
      "cell_type": "markdown",
      "metadata": {
        "id": "dRcAVQ7SFmdz"
      },
      "source": [
        "Question 3) Write a Python program to find the volume of a sphere with diameter 12 cm. \n",
        "\n",
        "---\n",
        "\n",
        "\n",
        "Formula: V=4/3 * π * r 3"
      ]
    },
    {
      "cell_type": "code",
      "metadata": {
        "id": "4nZcsib_F_Wc"
      },
      "source": [
        "import math"
      ],
      "execution_count": 4,
      "outputs": []
    },
    {
      "cell_type": "code",
      "metadata": {
        "colab": {
          "base_uri": "https://localhost:8080/"
        },
        "id": "I9tss9V5GPmj",
        "outputId": "75c11c31-cf1e-41d7-9248-53a0a4371b84"
      },
      "source": [
        "d = 12\n",
        "volume = (4/3) * math.pi * (d/2)**3\n",
        "print(f'Volume of a sphere with diameter 12cm is {volume} cm3')"
      ],
      "execution_count": 5,
      "outputs": [
        {
          "output_type": "stream",
          "text": [
            "Volume of a sphere with diameter 12cm is 904.7786842338603 cm3\n"
          ],
          "name": "stdout"
        }
      ]
    },
    {
      "cell_type": "code",
      "metadata": {
        "id": "mDl7QQ6wGrpa"
      },
      "source": [
        ""
      ],
      "execution_count": null,
      "outputs": []
    }
  ]
}